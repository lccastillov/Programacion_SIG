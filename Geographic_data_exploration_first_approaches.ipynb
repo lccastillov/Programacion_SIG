{
 "cells": [
  {
   "cell_type": "markdown",
   "id": "9dc15117-6e49-4745-bff4-08ee8a5d6284",
   "metadata": {},
   "source": [
    "<div style=\"text-align: center; background-color: #f9f9f9; border-left: 6px solid #4CAF50; padding: 10px; border-radius: 5px;\">\n",
    "    <h1 style=\"color: #333; font-size: 24px;\">Universidad Nacional de Colombia</h1>\n",
    "    <h2 style=\"color: #555; font-size: 20px;\">Facultad de Ciencias Agrarias, Sede Bogotá</h2>\n",
    "    <h3 style=\"color: #777; font-size: 18px;\">Workshop: Geographic data exploration and first approaches</h3>\n",
    "    <h3 style=\"color: #777; font-size: 18px;\">Programación SIG II-2024</h3>\n",
    "</div>\n"
   ]
  },
  {
   "cell_type": "markdown",
   "id": "3cdae499-f982-47ae-8f6a-8692cf85dcb3",
   "metadata": {},
   "source": [
    "In this workshop, we will take a hands-on approach to working with geospatial data, focusing on practical skills and foundational concepts. Using **GeoPandas**, a powerful Python library for geographic data, you will learn how to handle, analyze, and visualize spatial data efficiently.\n",
    "Additionally, this workshop will guide you on how to install libraries that may not be included in `conda`, ensuring you can work with any Python package required for geospatial analysis.\n",
    "\n",
    "The workshop is structured around exercises and concepts derived from [Chapter 1: Spatial Data](https://py.geocompx.org/01-spatial-data) of the Geocomputation with Python resource. You will work with a shapefile containing information about municipalities in Colombia, but the techniques you’ll learn can be applied to any geospatial dataset. Use this very notebook to go through the [Geographic data in Python section](https://py.geocompx.org/) from  Dorman et al., and answer the questions at the end of this notebook. \n",
    "\n",
    "---\n",
    "\n",
    "## Learning Objectives\n",
    "\n",
    "By the end of this workshop you are expected to:\n",
    "\n",
    "* Differentiate between a `GeoSeries` and a `GeoDataFrame`, and understand their roles in geospatial analysis.\n",
    "* Import spatial datasets into Python using `GeoPandas`.\n",
    "* Explore and interpret the attributes and geometries within a `GeoDataFrame`.\n",
    "* Access and modify geometry data, such as centroids and boundaries.\n",
    "Perform attribute-based filtering of spatial datasets.\n",
    "* Visualize Spatial Data  using `.plot()` and `.explore()` methods.\n",
    "* Customize maps \n",
    "* Reproject spatial data to ensure consistency and accuracy in analysis.\n",
    "* Replicate the analysis using your own datasets, adapting the learned techniques to different contexts.\n"
   ]
  },
  {
   "cell_type": "markdown",
   "id": "f2a3e2f1-e0d1-4fe4-9b69-552ebae1088f",
   "metadata": {},
   "source": [
    "# 1. Installing new packages"
   ]
  },
  {
   "cell_type": "markdown",
   "id": "d93d7775-52d8-4e74-beaf-c7542cb695ec",
   "metadata": {},
   "source": [
    "Lets try importing the required libraries"
   ]
  },
  {
   "cell_type": "code",
   "execution_count": null,
   "id": "2263cf86-22f7-499b-94ab-156fdf560a1a",
   "metadata": {},
   "outputs": [],
   "source": [
    "import pandas as pd\n",
    "import shapely\n",
    "import geopandas as gpd\n",
    "import matplotlib.pyplot as plt"
   ]
  },
  {
   "cell_type": "markdown",
   "id": "7e73c8fc-f5ed-4a71-ad97-57b34fc694b1",
   "metadata": {},
   "source": [
    "**Why This Error Happens??**\n",
    "\n",
    "The error ```ModuleNotFoundError``` occurs when Python cannot find the module you are trying to import. This usually happens because the package is not installed in your Python environment. Every package needs to be installed before it can be used in your code\n",
    "In order to install a missing package, you can use one of the following methods"
   ]
  },
  {
   "cell_type": "markdown",
   "id": "22070c71-c2c8-4f20-a242-b15d5e6364fe",
   "metadata": {},
   "source": [
    "## Using the terminal\n",
    "You can open the terminal and:\n",
    "* ```pip install shapely``` for pip\n",
    "or \n",
    "* ```conda install shapely -c conda-forge``` for conda\n",
    "\n",
    "## Using the notebook cells\n",
    "You can install the package directly from a code cell using:\n",
    "* ```!pip install shapely``` with pip\n",
    "* ```!conda install shapely -c conda-forge -y``` with conda\n"
   ]
  },
  {
   "cell_type": "markdown",
   "id": "431203ba-5a05-4e32-8e44-8f1439e79239",
   "metadata": {},
   "source": [
    "## When should you use conda?\n",
    "* You usually use conda for Scientific and Data Science Packages: \n",
    "conda is excellent for packages with complex system-level dependencies, such as geospatial libraries (e.g., shapely, gdal), scientific libraries (e.g., numpy, scipy), and machine learning libraries. These packages often require non-Python libraries or binaries that conda installs automatically.\n",
    "* You also use conda to manage Python Environments that use specific versions of Python and libraries.\n",
    "* Conda-forge is a community-maintained repository that provides pre-compiled packages for scientific computing, making installation simpler and faster e.g. ```conda install geopandas -c conda-forge```\n",
    "* conda can manage dependencies beyond Python, including R, C++, and system libraries. This makes it ideal for multidisciplinary projects.\n",
    "  \n",
    "## When should you use pip?\n",
    "```pip``` (Pip Installs Packages), is the default package manager for Python, used to install, manage, and uninstall Python libraries and dependencies.\n",
    "* Use pip for pure Python packages that are easy to install and widely available on PyPI (Python Package Index), such as pandas, matplotlib, requests\n",
    "*  If you're not using a Conda environment and rely on the system-wide Python installation, pip is the best option.\n",
    "* Some Python libraries are not available in Conda repositories, so you need pip to install them."
   ]
  },
  {
   "cell_type": "markdown",
   "id": "9f104281-c636-48ca-8647-592020ec007f",
   "metadata": {},
   "source": [
    "<div style=\"background-color: #f0f8ff; border-left: 6px solid #4682b4; padding: 10px; border-radius: 5px;\">\n",
    "    <h2 style=\"color: #333;\">Now it's your turn!</h2>\n",
    "    <p style=\"color: #555;\">Install the <code>geopandas</code> package to start working with spatial data!! </p>\n",
    "    <ol style=\"color: #555;\">\n",
    " \n",
    "</div>\n",
    "\n",
    "\n"
   ]
  },
  {
   "cell_type": "markdown",
   "id": "bf10c92d-76f6-4d08-8981-7c03ca0c2195",
   "metadata": {},
   "source": [
    "# 2. Exploring geographic data"
   ]
  },
  {
   "cell_type": "markdown",
   "id": "14add88c-8842-4103-977a-6350da7c4177",
   "metadata": {},
   "source": [
    "In the following cell you will create an **instance** of an object from the **GeoDataFrame class**, which is part of the geopandas library. This object does have attributes and methods that you can use.\n",
    "You will find the shapefile of Colombian municipalities at [**LINK**](https://drive.google.com/drive/folders/1LugBAW1CLn7m3at2kVkLlA76HERBwGVP?usp=drive_link). "
   ]
  },
  {
   "cell_type": "code",
   "execution_count": null,
   "id": "ee73e9d8-fb09-4eae-ba19-25b1d41eea95",
   "metadata": {},
   "outputs": [],
   "source": [
    "path_shp_municipios=r\"/Users/macbook/Library/CloudStorage/OneDrive-UniversidadNacionaldeColombia/UN_2024_2/2024_2_Programacion_SIG/Talleres/Fundamenteos_Geoespacial\"\n",
    "df_municipios = gpd.read_file(path_shp_municipios)"
   ]
  },
  {
   "cell_type": "markdown",
   "id": "ebd8f090-eb2f-4bbe-aa4c-af92a8cba16f",
   "metadata": {},
   "source": [
    "<div style=\"background-color: #f9f9f9; border-left: 6px solid #FF5722; padding: 10px; border-radius: 5px;\">\n",
    "    <h2 style=\"color: #333;\">🔍 Data Exploration: Identifying Spatial Columns</h2>\n",
    "    <p style=\"color: #555;\">As part of your spatial data analysis, explore the GeoDataFrame <code>de_municipios</code> and answer the following questions:</p>\n",
    "    <ol style=\"color: #555;\">\n",
    "        <li><b>What are the names of all the columns in the <code>de_municipios</code> GeoDataFrame?</b></li>\n",
    "        <li><b>Which of these columns represent spatial data? Explain why.</b></li>\n",
    "    </ol>\n",
    "    <p style=\"color: #555;\">Use methods like <code>.columns</code>, <code>.geometry</code>, and <code>.info()</code> to help you answer these questions.</p>\n",
    "</div>\n"
   ]
  },
  {
   "cell_type": "code",
   "execution_count": null,
   "id": "92870941-3cfa-43e1-bb1f-8ad35e0c7f6f",
   "metadata": {},
   "outputs": [],
   "source": [
    "print(type(shp_municipios))\n",
    "print(df_municipios)"
   ]
  },
  {
   "cell_type": "markdown",
   "id": "b1324162-f9f8-4809-8386-ede66a83971f",
   "metadata": {},
   "source": [
    "<div style=\"background-color: #f9f9f9; border-left: 6px solid #FF5722; padding: 10px; border-radius: 5px;\">\n",
    "    <h2 style=\"color: #333;\">🔍 Data Visualisation: Identifying Spatial Columns</h2>\n",
    "    <p style=\"color: #555;\">When working with GeoDataFrames in GeoPandas, .plot() and .explore() are two methods for visualizing spatial data.  </p>\n",
    "    <ol style=\"color: #555;\">\n",
    "        <b>Try both methods and identify when should you use one or another</b>\n",
    "    </ol>\n",
    "\n",
    "</div>\n",
    "\n"
   ]
  },
  {
   "cell_type": "code",
   "execution_count": null,
   "id": "24307299-8e5f-4b82-b519-a12308c3c8f5",
   "metadata": {},
   "outputs": [],
   "source": [
    "shp_municipios.plot()"
   ]
  },
  {
   "cell_type": "markdown",
   "id": "5d0124d8-ea65-4792-8e85-29abb036ab9c",
   "metadata": {},
   "source": [
    "# 3. Follow the material \n",
    "available at [**This LINK**](https://py.geocompx.org/01-spatial-data)  (Only unit 1, and run the analyses over your own data)"
   ]
  },
  {
   "cell_type": "markdown",
   "id": "0a800cea-40dd-49d2-ac03-656458f49ff2",
   "metadata": {},
   "source": [
    "<div style=\"background-color: #f9f9f9; border-left: 6px solid #4CAF50; padding: 10px; border-radius: 5px;\">\n",
    "    <h2 style=\"color: #333;\">🧠 Finally...Some Questions oto think about</h2>\n",
    "    <p style=\"color: #555;\">Reflect on the following questions as you work through the material and exercises. These questions are designed to deepen your understanding.</p>\n",
    "    <ol style=\"color: #555;\">\n",
    "        <li><b>What are the key differences between a GeoSeries and a GeoDataFrame? When would you use one over the other?</b></li>\n",
    "        <li><b>How does the geometry column in a GeoDataFrame differ from other columns? Why is it treated uniquely?</b></li>\n",
    "        <li><b>What are the advantages of using a GeoDataFrame compared to a traditional pandas DataFrame for handling spatial data?</b></li>\n",
    "        <li><b>Why is it important to know the Coordinate Reference System (CRS) of your spatial data? What could go wrong if the CRS is not properly defined?</b></li>\n",
    "        <li><b>How do vector and raster data differ in their structure and typical use cases? Can you think of a scenario where one would be more suitable than the other?</b></li>\n",
    "        <li><b>Why is it necessary to reproject spatial data into a consistent CRS when combining datasets? What challenges might arise if this step is skipped?</b></li>\n",
    "        <li><b>Centroids are a simplified representation of geometries. In what scenarios might using centroids instead of full geometries lead to misleading results?</b></li>\n",
    "        <li><b>What are some real-world applications of spatial data filtering (e.g., selecting features based on attributes)? How might this be useful for your course project?</b></li>\n",
    "        <li><b>If you needed to share spatial data with collaborators who use different software, what file formats would you consider using? Why?</b></li>\n",
    "    </ol>\n",
    "    <p style=\"color: #555;\">Discuss these questions with your peers or reflect on them individually. I might feel tempted to include some in the exam.</p>\n",
    "</div>\n"
   ]
  },
  {
   "cell_type": "code",
   "execution_count": null,
   "id": "d41928ea-278f-4607-9dd5-d5ba5bf191e8",
   "metadata": {},
   "outputs": [],
   "source": []
  },
  {
   "cell_type": "code",
   "execution_count": null,
   "id": "ccd75454-6fe8-4569-a42d-5957ec59f8dc",
   "metadata": {},
   "outputs": [],
   "source": []
  }
 ],
 "metadata": {
  "kernelspec": {
   "display_name": "Python 3 (ipykernel)",
   "language": "python",
   "name": "python3"
  },
  "language_info": {
   "codemirror_mode": {
    "name": "ipython",
    "version": 3
   },
   "file_extension": ".py",
   "mimetype": "text/x-python",
   "name": "python",
   "nbconvert_exporter": "python",
   "pygments_lexer": "ipython3",
   "version": "3.12.7"
  }
 },
 "nbformat": 4,
 "nbformat_minor": 5
}
