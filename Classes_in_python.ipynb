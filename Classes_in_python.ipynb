{
 "cells": [
  {
   "cell_type": "markdown",
   "id": "c63f9417",
   "metadata": {},
   "source": [
    "# Introduction to Classes in Python\n"
   ]
  },
  {
   "cell_type": "markdown",
   "id": "f6dd2dae-0b6d-4478-8e60-68d1616d7c34",
   "metadata": {},
   "source": [
    "## Universidad Nacional de Colombia\n",
    "## Facultad de Ciencias Agrarias, Sede Bogotá\n",
    "## Curso: Programación SIG\n"
   ]
  },
  {
   "cell_type": "markdown",
   "id": "370a1d7f-b719-46a4-b5f9-ce01a7a589fc",
   "metadata": {},
   "source": [
    "This notebook aiims you to learn the basic concepts of classes, attributes, methods, and their relationship with variables. Additionally, we will explore how to use these concepts in the context of **GIS Programming** with an applied example."
   ]
  },
  {
   "cell_type": "markdown",
   "id": "09af3be7-c034-4a6f-876e-48b7fd89eedf",
   "metadata": {},
   "source": [
    "# Before You Start\n",
    "Download the notebook requiered directly from the GitHub repository. \n",
    "\n",
    "Go to the repository: https://github.com/lccastillov/Programacion_SIG.\n",
    "\n",
    "* Click on the file Classes_in_python.ipynb.\n",
    "* Click the Raw button at the top right.\n",
    "* Save the file on your computer:\n",
    "    Use Ctrl + S (Windows) or Cmd + S (Mac) in your browser and select the desired folder.\n"
   ]
  },
  {
   "cell_type": "markdown",
   "id": "c294f718",
   "metadata": {},
   "source": [
    "\n",
    "## Why Create Classes?\n",
    "Classes are fundamental to structuring and organising code, especially in large or complex projects. They help encapsulate data and functionality into reusable and modular components.\n",
    "\n",
    "### Key Reasons to Create Classes:\n",
    "1. **Encapsulation**: Bundle data (attributes) and behaviours (methods) into a single entity, reducing complexity.\n",
    "2. **Reusability**: Once a class is defined, you can create multiple instances without rewriting code.\n",
    "3. **Modularity**: Classes promote separation of concerns, making the code easier to read, maintain, and debug.\n",
    "4. **Scalability**: Classes allow for extending functionality through inheritance and polymorphism.\n",
    "5. **Real-World Modelling**: Classes make it easier to represent real-world entities and their interactions.\n",
    "\n",
    "### Example of Why to Use Classes:\n",
    "Suppose you are building a GIS application. Instead of writing separate functions and variables for each layer, you can create a class `GISLayer` to represent all layers, ensuring consistency and simplicity.\n"
   ]
  },
  {
   "cell_type": "markdown",
   "id": "3e86cd3d",
   "metadata": {},
   "source": [
    "\n",
    "## What is a class?\n",
    "A **class** in Python is a blueprint or template that defines attributes (properties) and methods (functions) for a specific type of object.\n",
    "\n",
    "### Components of a Class:\n",
    "1. **Attributes**: Variables that represent the characteristics of the object.\n",
    "2. **Methods**: Functions that define the behaviour of the object.\n",
    "3. **Constructor**: A special method (`__init__`) used to initialise the attributes of a class.\n"
   ]
  },
  {
   "cell_type": "code",
   "execution_count": 46,
   "id": "93fbec76",
   "metadata": {},
   "outputs": [
    {
     "name": "stdout",
     "output_type": "stream",
     "text": [
      "Ana\n",
      "Hola, mi nombre es Ana y tengo 30 años.\n"
     ]
    }
   ],
   "source": [
    "\n",
    "# Examples of a class in python\n",
    "class Person:\n",
    "    # Constructor to initialise attributes\n",
    "    def __init__(self, input_name, input_age):\n",
    "        self.name = input_name  # Assigning value to attribute1.  Here, the internal attribute \"name\" uses the value of the parameter \"input_name\".\n",
    "        # First it goes the attribute and then the parameter that receives the constructor        self.age = age      # # Assigning value to attribute age\n",
    "        self.age = input_age  # Assigning value to attribute1.  Here, the internal attribute \"name\" uses the value of the parameter \"input_name\".\n",
    "        \n",
    "    # Método para describir a la persona\n",
    "    def greet(self):\n",
    "        return f\"Hola, mi nombre es {self.name} y tengo {self.age} años.\"\n",
    "\n",
    "# Crate an isntance of the class Person\n",
    "#In the following lines, name takes the value of \"Ana\", and this value is assigned to the internal attribute named self.name\n",
    "\n",
    "persona1 = Person(\"Ana\", 30) \n",
    "\n",
    "# Access attributes and methods\n",
    "print(persona1.name)  # Output: Ana\n",
    "print(persona1.greet())  # Output: Hola, mi nombre es Ana y tengo 30 años.\n"
   ]
  },
  {
   "cell_type": "markdown",
   "id": "93e7d475",
   "metadata": {},
   "source": [
    "\n",
    "## What is the `__init__` method?\n",
    "The special method `__init__` is a **constructor** used to initialise the attributes of an object when creating an instance of the class.\n",
    "\n",
    "### Purpose of `__init__`:\n",
    "1. It allows you to set the **initial values** of a class's attributes.\n",
    "2. It is executed automatically when an object is created, without needing to call it explicitly.\n",
    "\n",
    "### When to use it:\n",
    "- **Whenever you want to initialise attributes** with customised values for each object.\n",
    "- It is useful to ensure that attributes are not empty or undefined.\n",
    "\n",
    "For example, if you have a `Person` class, it makes sense for each person to have a name and age when created. The `__init__` method ensures these values are correctly assigned.\n"
   ]
  },
  {
   "cell_type": "code",
   "execution_count": 22,
   "id": "507cf16c",
   "metadata": {},
   "outputs": [
    {
     "name": "stdout",
     "output_type": "stream",
     "text": [
      "<class '__main__.Person'>\n",
      "Name: Carlos, Age: 25\n",
      "Name: Maria, Age: 30\n"
     ]
    }
   ],
   "source": [
    "\n",
    "# Example with __init__\n",
    "class Person:\n",
    "    # Constructor to initialise attributes\n",
    "    def __init__(self, name, age):\n",
    "        # Here we initialise the attributes with the values passed to the constructor\n",
    "        self.name = name\n",
    "        self.age = age\n",
    "\n",
    "    # Method to display information about the person\n",
    "    def show_info(self):\n",
    "        return f\"Name: {self.name}, Age: {self.age}\"\n",
    "\n",
    "# Create instances of Person\n",
    "person1 = Person(\"Carlos\", 25)\n",
    "print(\"Show which type of object is person1 \",type(person1))\n",
    "person2 = Person(\"Maria\", 30)\n",
    "\n",
    "# Display information\n",
    "print(person1.show_info())  # Output: Name: Carlos, Age: 25\n",
    "print(person2.show_info())  # Output: Name: Maria, Age: 30\n"
   ]
  },
  {
   "cell_type": "markdown",
   "id": "fed9457f",
   "metadata": {},
   "source": [
    "\n",
    "### What happens if I don't use `__init__`?\n",
    "If you don't define an `__init__` method, objects can still be created, but their attributes won't be automatically initialised.\n",
    "\n",
    "For example:\n"
   ]
  },
  {
   "cell_type": "code",
   "execution_count": 28,
   "id": "21f0411d",
   "metadata": {},
   "outputs": [
    {
     "name": "stdout",
     "output_type": "stream",
     "text": [
      "<class '__main__.PersonWithoutInit'>\n"
     ]
    }
   ],
   "source": [
    "\n",
    "# Class without __init__\n",
    "class PersonWithoutInit:\n",
    "    pass\n",
    "\n",
    "# Create an instance\n",
    "person = PersonWithoutInit()\n",
    "\n",
    "# Attempt to access attributes\n",
    "try:\n",
    "    print(person.name)  # This will raise an error because the attribute does not exist\n",
    "except AttributeError as e:\n",
    "    print(\"Error:\", e)\n"
   ]
  },
  {
   "cell_type": "markdown",
   "id": "056c243e",
   "metadata": {},
   "source": [
    "\n",
    "As you can see, without `__init__`, you must manually define attributes after creating the object, which can lead to errors and make the code more error-prone.\n",
    "\n",
    "### Benefit of `__init__`\n",
    "With `__init__`, you ensure that all necessary attributes are properly defined when the object is created, improving the robustness and clarity of your code.\n"
   ]
  },
  {
   "cell_type": "markdown",
   "id": "b212fb68-025c-4faa-b571-2b060044b7ad",
   "metadata": {},
   "source": [
    "\n",
    "## Relationship Between Classes and Variables\n",
    "- **Classes**: They are the blueprint that defines what the objects will look like.\n",
    "- **Objects**: They are instances of classes, each with its own copy of the attributes.\n",
    "- **Variables**: They can represent attributes within a class or hold instances of objects.\n",
    "\n",
    "### Example\n",
    "Suppose we want to model **geospatial layers**. Each layer has attributes like its name, data type (vector or raster), and a description. (!! This is only an alpha-nuemric example!!)\n"
   ]
  },
  {
   "cell_type": "code",
   "execution_count": 33,
   "id": "3fa33913-4874-4228-8b83-073e9c18674b",
   "metadata": {},
   "outputs": [
    {
     "name": "stdout",
     "output_type": "stream",
     "text": [
      "Land Use\n",
      "Layer: Land Use, Type: Vector, Description: Layer showing land use in 2024\n"
     ]
    }
   ],
   "source": [
    "\n",
    "# Class to represent a geospatial layer\n",
    "class GISLayer:\n",
    "    def __init__(self, input_name, layer_type, description):\n",
    "        self.name = input_name          # Layer name\n",
    "        self.layer_type = layer_type  # Layer type: vector or raster\n",
    "        self.description = description  # Layer description\n",
    "\n",
    "    def show_info(self):\n",
    "        # Method to display the layer's information\n",
    "        return f\"Layer: {self.name}, Type: {self.layer_type}, Description: {self.description}\"\n",
    "\n",
    "# Create an instance of the class\n",
    "layer1 = GISLayer(\"Land Use\", \"Vector\", \"Layer showing land use in 2024\")\n",
    "\n",
    "# Access attributes and methods\n",
    "print(layer1.name)  # Output: Land Use\n",
    "print(layer1.show_info())  # Output: Layer: Land Use, Type: Vector, Description: Layer showing land use in 2024.\n"
   ]
  },
  {
   "cell_type": "markdown",
   "id": "34f4a359-b146-40fe-bfac-aade64de9f27",
   "metadata": {},
   "source": [
    "\n",
    "## Inheritance and Polymorphism in GIS\n",
    "Imagine we want to extend the concept of layers to handle raster layers with an additional attribute: resolution. You can use **inheritance** to create a new class that extends the functionality of the `GISLayer` class.\n"
   ]
  },
  {
   "cell_type": "code",
   "execution_count": 57,
   "id": "d1360fe5-a6fa-42f1-8972-f319b5b1058e",
   "metadata": {},
   "outputs": [
    {
     "name": "stdout",
     "output_type": "stream",
     "text": [
      "Layer: Digital Elevation, Type: Raster, Description: Terrain elevation model, Resolution: 30 m\n"
     ]
    }
   ],
   "source": [
    "\n",
    "# Base class\n",
    "class GISLayer:\n",
    "    def __init__(self, input_name, layer_type, description):\n",
    "        self.name = input_name\n",
    "        self.layer_type = layer_type\n",
    "        self.description = description\n",
    "\n",
    "    def show_info(self):\n",
    "        return f\"Layer: {self.name}, Type: {self.layer_type}, Description: {self.description}\"\n",
    "\n",
    "# Derived class for raster layers\n",
    "class RasterLayer(GISLayer):\n",
    "    def __init__(self, input_name, description, resolution):\n",
    "        super().__init__(input_name, \"Raster\", description)\n",
    "        self.resolution = resolution  # Resolution of the raster layer\n",
    "\n",
    "    # Override the show_info method\n",
    "    def show_info(self):\n",
    "        return f\"{super().show_info()}, Resolution: {self.resolution} m\"\n",
    "\n",
    "# Create an instance of the derived class\n",
    "raster_layer = RasterLayer(\"Digital Elevation\", \"Terrain elevation model\", 30)\n",
    "\n",
    "# Display raster layer information\n",
    "print(raster_layer.show_info())\n"
   ]
  },
  {
   "cell_type": "markdown",
   "id": "1387b6a4-43c6-41ef-9351-194f714a1a67",
   "metadata": {},
   "source": [
    "```Super()``` is a function in Python used in derived (child) classes to call methods or the constructor ```(__init__)``` of their base (parent) classes. It provides a way to reuse and extend the functionality of the base class without rewriting its code.What does super() do?\n",
    "Calls the parent class method:\n",
    "\n",
    "* ```super()``` allows a derived class to access methods and attributes of its base class. This is especially useful for calling the base class constructor (__init__) to initialize attributes inherited from the parent.\n",
    "* If there are multiple levels of inheritance, super() ensures that the correct method in the inheritance chain is called.\n",
    "* Instead of duplicating code from the parent class, super() allows the child class to extend or modify the functionality of the parent.\n",
    "\n",
    "\n",
    "\n",
    "\n"
   ]
  },
  {
   "cell_type": "markdown",
   "id": "73ce183c",
   "metadata": {},
   "source": [
    "\n",
    "## Exercises for Practice\n",
    "\n",
    "Try solving these exercises:\n",
    "\n",
    "### Exercise 1: Create a `Vehicle` Class\n",
    "1. Define a class `Vehicle` with attributes `brand`, `model`, and `year`.\n",
    "2. Add a method `vehicle_info` that returns a string with the vehicle's details.\n",
    "3. Create three instances of `Vehicle` and print their information.\n"
   ]
  },
  {
   "cell_type": "code",
   "execution_count": null,
   "id": "a570ceca-21ea-4ab9-aecc-c93e30cbf37e",
   "metadata": {},
   "outputs": [],
   "source": []
  },
  {
   "cell_type": "markdown",
   "id": "74599ab5-e75b-4866-ac29-9fcf690254b9",
   "metadata": {},
   "source": [
    "### Exercise 2: Extend the `Vehicle` Class\n",
    "1. Create a derived class `ElectricVehicle` that inherits from `Vehicle`.\n",
    "2. Add an additional attribute `battery_capacity` (in kWh).\n",
    "3. Override the `vehicle_info` method to include battery capacity in the output.\n",
    "4. Create an instance of `ElectricVehicle` and print its information.\n"
   ]
  },
  {
   "cell_type": "code",
   "execution_count": null,
   "id": "92ab87a5-a771-4386-b243-55af89c4e4e0",
   "metadata": {},
   "outputs": [],
   "source": []
  },
  {
   "cell_type": "markdown",
   "id": "a720358b-deaa-4f6a-a66a-ed35e22cb2a3",
   "metadata": {},
   "source": [
    "### Exercise 3: Modelling Geospatial Data\n",
    "1. Define a class `GeospatialFeature` with attributes `name`, `geometry_type` (e.g., point, line, polygon), and `crs` (coordinate reference system).\n",
    "2. Add a method `describe_feature` to display the feature's details.\n",
    "3. Extend the class to create `PointFeature` and `PolygonFeature` with additional attributes such as `coordinates` (for `PointFeature`) and `area` (for `PolygonFeature`).\n",
    "4. Create instances of `PointFeature` and `PolygonFeature` and test their methods.\n"
   ]
  },
  {
   "cell_type": "code",
   "execution_count": null,
   "id": "a6db9665-2ec3-42a5-8f5f-836d3158033a",
   "metadata": {},
   "outputs": [],
   "source": []
  },
  {
   "cell_type": "markdown",
   "id": "93f00144-b221-441e-bb90-5ebfdbb7e3fd",
   "metadata": {},
   "source": [
    "### Exercise 4: Custom Class for Your Domain\n",
    "1. Think of a real-world concept in your domain (e.g., weather station, agricultural field).\n",
    "2. Create a class to model this concept, including relevant attributes and methods.\n",
    "3. Instantiate the class and demonstrate its usage."
   ]
  },
  {
   "cell_type": "code",
   "execution_count": null,
   "id": "c45559a9-1048-4c35-bbdb-1a5e0d7cb54b",
   "metadata": {},
   "outputs": [],
   "source": []
  }
 ],
 "metadata": {
  "kernelspec": {
   "display_name": "Python 3 (ipykernel)",
   "language": "python",
   "name": "python3"
  },
  "language_info": {
   "codemirror_mode": {
    "name": "ipython",
    "version": 3
   },
   "file_extension": ".py",
   "mimetype": "text/x-python",
   "name": "python",
   "nbconvert_exporter": "python",
   "pygments_lexer": "ipython3",
   "version": "3.12.7"
  }
 },
 "nbformat": 4,
 "nbformat_minor": 5
}
