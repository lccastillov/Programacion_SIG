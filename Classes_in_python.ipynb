{
 "cells": [
  {
   "cell_type": "markdown",
   "id": "c63f9417",
   "metadata": {},
   "source": [
    "# Introduction to Classes in Python\n"
   ]
  },
  {
   "cell_type": "markdown",
   "id": "f6dd2dae-0b6d-4478-8e60-68d1616d7c34",
   "metadata": {},
   "source": [
    "## Universidad Nacional de Colombia\n",
    "## Facultad de Ciencias Agrarias, Sede Bogotá\n",
    "## Curso: Programación SIG\n"
   ]
  },
  {
   "cell_type": "markdown",
   "id": "370a1d7f-b719-46a4-b5f9-ce01a7a589fc",
   "metadata": {},
   "source": [
    "This notebook aiims you to learn the basic concepts of classes, attributes, methods, and their relationship with variables. Additionally, we will explore how to use these concepts in the context of **GIS Programming** with an applied example."
   ]
  },
  {
   "cell_type": "markdown",
   "id": "09af3be7-c034-4a6f-876e-48b7fd89eedf",
   "metadata": {},
   "source": [
    "# Before You Start\n",
    "Before working with this notebook, please clone the repository containing the necessary files and resources for this session. Follow these steps:\n",
    "\n",
    "* Open a terminal on your Jupyterlab terminal.\n",
    "\n",
    "Use the git clone command to copy the repository to your local machine:\n"
   ]
  },
  {
   "cell_type": "code",
   "execution_count": null,
   "id": "e3150f5d-da08-4cb1-a48f-0cecf27fb205",
   "metadata": {},
   "outputs": [],
   "source": [
    "\n",
    "git clone https://github.com/YourGitHubUsername/YourRepositoryName.git\n",
    "Replace YourGitHubUsername with your GitHub username and YourRepositoryName with the repository name."
   ]
  },
  {
   "cell_type": "markdown",
   "id": "09f0a027-b22e-42f1-9f2a-5e856102c158",
   "metadata": {},
   "source": [
    "Navigate to the repository folder:\n",
    "\n",
    "\n"
   ]
  },
  {
   "cell_type": "code",
   "execution_count": null,
   "id": "e59b4811-8aed-45a9-a359-5272dd8f9135",
   "metadata": {},
   "outputs": [],
   "source": [
    "\n",
    "cd YourRepositoryName\n",
    "Open the notebook file in your preferred Python environment (e.g., Jupyter Notebook, JupyterLab, or VSCode)."
   ]
  },
  {
   "cell_type": "markdown",
   "id": "c294f718",
   "metadata": {},
   "source": [
    "\n",
    "## Why Create Classes?\n",
    "Classes are fundamental to structuring and organising code, especially in large or complex projects. They help encapsulate data and functionality into reusable and modular components.\n",
    "\n",
    "### Key Reasons to Create Classes:\n",
    "1. **Encapsulation**: Bundle data (attributes) and behaviours (methods) into a single entity, reducing complexity.\n",
    "2. **Reusability**: Once a class is defined, you can create multiple instances without rewriting code.\n",
    "3. **Modularity**: Classes promote separation of concerns, making the code easier to read, maintain, and debug.\n",
    "4. **Scalability**: Classes allow for extending functionality through inheritance and polymorphism.\n",
    "5. **Real-World Modelling**: Classes make it easier to represent real-world entities and their interactions.\n",
    "\n",
    "### Example of Why to Use Classes:\n",
    "Suppose you are building a GIS application. Instead of writing separate functions and variables for each layer, you can create a class `GISLayer` to represent all layers, ensuring consistency and simplicity.\n"
   ]
  },
  {
   "cell_type": "markdown",
   "id": "3e86cd3d",
   "metadata": {},
   "source": [
    "\n",
    "## What is a class?\n",
    "A **class** in Python is a blueprint or template that defines attributes (properties) and methods (functions) for a specific type of object.\n",
    "\n",
    "### Components of a Class:\n",
    "1. **Attributes**: Variables that represent the characteristics of the object.\n",
    "2. **Methods**: Functions that define the behaviour of the object.\n",
    "3. **Constructor**: A special method (`__init__`) used to initialise the attributes of a class.\n"
   ]
  },
  {
   "cell_type": "code",
   "execution_count": null,
   "id": "93fbec76",
   "metadata": {},
   "outputs": [],
   "source": [
    "\n",
    "# Ejemplo básico de una clase\n",
    "class Persona:\n",
    "    # Constructor para inicializar atributos\n",
    "    def __init__(self, nombre, edad):\n",
    "        self.nombre = nombre  # Atributo nombre\n",
    "        self.edad = edad      # Atributo edad\n",
    "\n",
    "    # Método para describir a la persona\n",
    "    def saludar(self):\n",
    "        return f\"Hola, mi nombre es {self.nombre} y tengo {self.edad} años.\"\n",
    "\n",
    "# Crear una instancia de la clase Persona\n",
    "persona1 = Persona(\"Ana\", 30)\n",
    "\n",
    "# Acceder a los atributos y métodos\n",
    "print(persona1.nombre)  # Salida: Ana\n",
    "print(persona1.saludar())  # Salida: Hola, mi nombre es Ana y tengo 30 años.\n"
   ]
  },
  {
   "cell_type": "markdown",
   "id": "93e7d475",
   "metadata": {},
   "source": [
    "\n",
    "## What is the `__init__` method?\n",
    "The special method `__init__` is a **constructor** used to initialise the attributes of an object when creating an instance of the class.\n",
    "\n",
    "### Purpose of `__init__`:\n",
    "1. It allows you to set the **initial values** of a class's attributes.\n",
    "2. It is executed automatically when an object is created, without needing to call it explicitly.\n",
    "\n",
    "### When to use it:\n",
    "- **Whenever you want to initialise attributes** with customised values for each object.\n",
    "- It is useful to ensure that attributes are not empty or undefined.\n",
    "\n",
    "For example, if you have a `Person` class, it makes sense for each person to have a name and age when created. The `__init__` method ensures these values are correctly assigned.\n"
   ]
  },
  {
   "cell_type": "code",
   "execution_count": null,
   "id": "507cf16c",
   "metadata": {},
   "outputs": [],
   "source": [
    "\n",
    "# Example with __init__\n",
    "class Person:\n",
    "    # Constructor to initialise attributes\n",
    "    def __init__(self, name, age):\n",
    "        # Here we initialise the attributes with the values passed to the constructor\n",
    "        self.name = name\n",
    "        self.age = age\n",
    "\n",
    "    # Method to display information about the person\n",
    "    def show_info(self):\n",
    "        return f\"Name: {self.name}, Age: {self.age}\"\n",
    "\n",
    "# Create instances of Person\n",
    "person1 = Person(\"Carlos\", 25)\n",
    "person2 = Person(\"Maria\", 30)\n",
    "\n",
    "# Display information\n",
    "print(person1.show_info())  # Output: Name: Carlos, Age: 25\n",
    "print(person2.show_info())  # Output: Name: Maria, Age: 30\n"
   ]
  },
  {
   "cell_type": "markdown",
   "id": "fed9457f",
   "metadata": {},
   "source": [
    "\n",
    "### What happens if I don't use `__init__`?\n",
    "If you don't define an `__init__` method, objects can still be created, but their attributes won't be automatically initialised.\n",
    "\n",
    "For example:\n"
   ]
  },
  {
   "cell_type": "code",
   "execution_count": null,
   "id": "21f0411d",
   "metadata": {},
   "outputs": [],
   "source": [
    "\n",
    "# Class without __init__\n",
    "class PersonWithoutInit:\n",
    "    pass\n",
    "\n",
    "# Create an instance\n",
    "person = PersonWithoutInit()\n",
    "\n",
    "# Attempt to access attributes\n",
    "try:\n",
    "    print(person.name)  # This will raise an error because the attribute does not exist\n",
    "except AttributeError as e:\n",
    "    print(\"Error:\", e)\n"
   ]
  },
  {
   "cell_type": "markdown",
   "id": "056c243e",
   "metadata": {},
   "source": [
    "\n",
    "As you can see, without `__init__`, you must manually define attributes after creating the object, which can lead to errors and make the code more error-prone.\n",
    "\n",
    "### Benefit of `__init__`\n",
    "With `__init__`, you ensure that all necessary attributes are properly defined when the object is created, improving the robustness and clarity of your code.\n"
   ]
  },
  {
   "cell_type": "markdown",
   "id": "d735ee33",
   "metadata": {},
   "source": [
    "\n",
    "## Relación entre Clases y Variables\n",
    "- **Clases**: Son el modelo que define cómo serán los objetos.\n",
    "- **Objetos**: Son instancias de clases, cada una con su propia copia de los atributos.\n",
    "- **Variables**: Pueden representar los atributos dentro de una clase o contener instancias de objetos.\n",
    "\n",
    "### Ejemplo Aplicado al SIG\n",
    "Supongamos que queremos modelar **capas geoespaciales** en un sistema de información geográfica (SIG). Cada capa tiene atributos como su nombre, tipo de datos (vectorial o raster), y una descripción.\n"
   ]
  },
  {
   "cell_type": "code",
   "execution_count": null,
   "id": "3d4b971c",
   "metadata": {},
   "outputs": [],
   "source": [
    "\n",
    "## Relationship Between Classes and Variables\n",
    "- **Classes**: They are the blueprint that defines what the objects will look like.\n",
    "- **Objects**: They are instances of classes, each with its own copy of the attributes.\n",
    "- **Variables**: They can represent attributes within a class or hold instances of objects.\n",
    "\n",
    "### Example Applied to GIS\n",
    "Suppose we want to model **geospatial layers** in a geographic information system (GIS). Each layer has attributes like its name, data type (vector or raster), and a description.\n"
   ]
  },
  {
   "cell_type": "markdown",
   "id": "61d62f83",
   "metadata": {},
   "source": [
    "\n",
    "# Class to represent a geospatial layer\n",
    "class GISLayer:\n",
    "    def __init__(self, name, layer_type, description):\n",
    "        self.name = name          # Layer name\n",
    "        self.layer_type = layer_type  # Layer type: vector or raster\n",
    "        self.description = description  # Layer description\n",
    "\n",
    "    def show_info(self):\n",
    "        # Method to display the layer's information\n",
    "        return f\"Layer: {self.name}, Type: {self.layer_type}, Description: {self.description}\"\n",
    "\n",
    "# Create an instance of the class\n",
    "layer1 = GISLayer(\"Land Use\", \"Vector\", \"Layer showing land use in 2024\")\n",
    "\n",
    "# Access attributes and methods\n",
    "print(layer1.name)  # Output: Land Use\n",
    "print(layer1.show_info())  # Output: Layer: Land Use, Type: Vector, Description: Layer showing land use in 2024.\n"
   ]
  },
  {
   "cell_type": "code",
   "execution_count": null,
   "id": "fcc0c23b",
   "metadata": {},
   "outputs": [],
   "source": [
    "\n",
    "## Inheritance and Polymorphism in GIS\n",
    "Imagine we want to extend the concept of layers to handle raster layers with an additional attribute: resolution. We can use **inheritance** to create a new class that extends the functionality of the `GISLayer` class.\n"
   ]
  },
  {
   "cell_type": "markdown",
   "id": "0eff2774",
   "metadata": {},
   "source": [
    "\n",
    "# Base class\n",
    "class GISLayer:\n",
    "    def __init__(self, name, layer_type, description):\n",
    "        self.name = name\n",
    "        self.layer_type = layer_type\n",
    "        self.description = description\n",
    "\n",
    "    def show_info(self):\n",
    "        return f\"Layer: {self.name}, Type: {self.layer_type}, Description: {self.description}\"\n",
    "\n",
    "# Derived class for raster layers\n",
    "class RasterLayer(GISLayer):\n",
    "    def __init__(self, name, description, resolution):\n",
    "        super().__init__(name, \"Raster\", description)\n",
    "        self.resolution = resolution  # Resolution of the raster layer\n",
    "\n",
    "    # Override the show_info method\n",
    "    def show_info(self):\n",
    "        return f\"{super().show_info()}, Resolution: {self.resolution} m\"\n",
    "\n",
    "# Create an instance of the derived class\n",
    "raster_layer = RasterLayer(\"Digital Elevation\", \"Terrain elevation model\", 30)\n",
    "\n",
    "# Display raster layer information\n",
    "print(raster_layer.show_info())\n"
   ]
  },
  {
   "cell_type": "markdown",
   "id": "b8bc9d9c",
   "metadata": {},
   "source": [
    "\n",
    "## Conclusion\n",
    "In this notebook, we explored how classes allow us to model real-world concepts, such as geospatial layers in GIS. We used attributes to represent properties, methods for behaviours, and inheritance to extend functionalities.\n"
   ]
  },
  {
   "cell_type": "markdown",
   "id": "73ce183c",
   "metadata": {},
   "source": [
    "\n",
    "## Exercises for Practice\n",
    "\n",
    "To solidify your understanding of classes, try solving these exercises:\n",
    "\n",
    "### Exercise 1: Create a `Vehicle` Class\n",
    "1. Define a class `Vehicle` with attributes `brand`, `model`, and `year`.\n",
    "2. Add a method `vehicle_info` that returns a string with the vehicle's details.\n",
    "3. Create three instances of `Vehicle` and print their information.\n",
    "\n",
    "### Exercise 2: Extend the `Vehicle` Class\n",
    "1. Create a derived class `ElectricVehicle` that inherits from `Vehicle`.\n",
    "2. Add an additional attribute `battery_capacity` (in kWh).\n",
    "3. Override the `vehicle_info` method to include battery capacity in the output.\n",
    "4. Create an instance of `ElectricVehicle` and print its information.\n",
    "\n",
    "### Exercise 3: Modelling Geospatial Data\n",
    "1. Define a class `GeospatialFeature` with attributes `name`, `geometry_type` (e.g., point, line, polygon), and `crs` (coordinate reference system).\n",
    "2. Add a method `describe_feature` to display the feature's details.\n",
    "3. Extend the class to create `PointFeature` and `PolygonFeature` with additional attributes such as `coordinates` (for `PointFeature`) and `area` (for `PolygonFeature`).\n",
    "4. Create instances of `PointFeature` and `PolygonFeature` and test their methods.\n",
    "\n",
    "### Exercise 4: Custom Class for Your Domain\n",
    "1. Think of a real-world concept in your domain (e.g., weather station, agricultural field).\n",
    "2. Create a class to model this concept, including relevant attributes and methods.\n",
    "3. Instantiate the class and demonstrate its usage.\n",
    "\n",
    "### Bonus Challenge: Implement a Basic GIS\n",
    "1. Create a `Map` class that can hold multiple layers (use the `GISLayer` class from the notebook).\n",
    "2. Add methods to add, remove, and list layers in the map.\n",
    "3. Test the `Map` class by adding different types of layers and printing the map's contents.\n",
    "\n",
    "Happy coding! 😊\n"
   ]
  }
 ],
 "metadata": {
  "kernelspec": {
   "display_name": "Python 3 (ipykernel)",
   "language": "python",
   "name": "python3"
  },
  "language_info": {
   "codemirror_mode": {
    "name": "ipython",
    "version": 3
   },
   "file_extension": ".py",
   "mimetype": "text/x-python",
   "name": "python",
   "nbconvert_exporter": "python",
   "pygments_lexer": "ipython3",
   "version": "3.12.7"
  }
 },
 "nbformat": 4,
 "nbformat_minor": 5
}
